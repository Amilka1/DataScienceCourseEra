{
 "cells": [
  {
   "cell_type": "markdown",
   "id": "5feb35bc-c615-4aaf-9c01-10762d57109a",
   "metadata": {},
   "source": [
    "# Data Science Tools and Ecosystem"
   ]
  },
  {
   "cell_type": "markdown",
   "id": "4f8d4e3e-3cef-4944-82eb-c6c98fb53795",
   "metadata": {},
   "source": [
    "## Author\n",
    "Amilka Diaz"
   ]
  },
  {
   "cell_type": "markdown",
   "id": "a1b08146-ea83-4374-9a40-1d3cdd8dfb16",
   "metadata": {},
   "source": [
    "In this notebook, Data Science Tools and Ecosystem are summarized."
   ]
  },
  {
   "cell_type": "markdown",
   "id": "1fa7a282-7a76-4dfe-a890-2ab5429d04de",
   "metadata": {},
   "source": [
    "**Objectives:**\n",
    "* Listing popular languages used by Data Scientist\n",
    "* Commonly used libraries\n",
    "* Data science tools\n",
    "* Arithmetic expression examples"
   ]
  },
  {
   "cell_type": "markdown",
   "id": "2aaf91fd-8429-46dc-9ac7-79bab97da1df",
   "metadata": {},
   "source": [
    "Some of the popular languages that Data Scientists use are:\n",
    "1. Python\n",
    "2. Java\n",
    "3. Javascript"
   ]
  },
  {
   "cell_type": "markdown",
   "id": "e1722288-4ae0-4a39-9fff-b36033a401df",
   "metadata": {},
   "source": [
    "Some of the commonly used libraries used by Data Scientists include:\n",
    "1. Pandas\n",
    "2. NumPy\n",
    "3. TensorFlow"
   ]
  },
  {
   "cell_type": "markdown",
   "id": "69839528-5593-44f4-b72c-123caaa4124c",
   "metadata": {},
   "source": [
    "| Data Science Tools |\n",
    "-----------------------\n",
    "Jupyter Notebooks\n",
    "----------------------\n",
    "Rstudio\n",
    "---------------------\n",
    "ApacheSpark\n",
    "----------------------"
   ]
  },
  {
   "cell_type": "markdown",
   "id": "1f035707-42c7-4a71-ad40-b470a13a8ddc",
   "metadata": {},
   "source": [
    "### Below are a few examples of evaluating arithmetic expressions in Python."
   ]
  },
  {
   "cell_type": "code",
   "execution_count": null,
   "id": "c693fb6a-7f57-4052-8852-4e4e81b72c23",
   "metadata": {},
   "outputs": [],
   "source": [
    "#This a simple arithmetic expression to multiply then add integers\n",
    "\n",
    "(3*4)+5"
   ]
  },
  {
   "cell_type": "code",
   "execution_count": 26,
   "id": "1646d9dd-56a9-4593-b6ff-3e70b882bbc2",
   "metadata": {},
   "outputs": [
    {
     "name": "stdout",
     "output_type": "stream",
     "text": [
      "3.3333333333333335\n"
     ]
    }
   ],
   "source": [
    "#this will convert 200 minutes into hours by dividing by 60\n",
    "\n",
    "hours==200/60\n",
    "print(hours)"
   ]
  }
 ],
 "metadata": {
  "kernelspec": {
   "display_name": "Python 3 (ipykernel)",
   "language": "python",
   "name": "python3"
  },
  "language_info": {
   "codemirror_mode": {
    "name": "ipython",
    "version": 3
   },
   "file_extension": ".py",
   "mimetype": "text/x-python",
   "name": "python",
   "nbconvert_exporter": "python",
   "pygments_lexer": "ipython3",
   "version": "3.11.9"
  }
 },
 "nbformat": 4,
 "nbformat_minor": 5
}
